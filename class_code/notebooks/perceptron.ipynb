{
 "cells": [
  {
   "cell_type": "markdown",
   "id": "839a6797-8d4b-42d9-80c4-af95bb0c4e18",
   "metadata": {},
   "source": [
    "# Perceptron"
   ]
  },
  {
   "cell_type": "markdown",
   "id": "e61e7bd1-a1e5-4876-8c2c-3c97c72edf01",
   "metadata": {},
   "source": [
    "## Designing a perceptron to classify logic gates: AND, OR, XOR"
   ]
  },
  {
   "cell_type": "code",
   "execution_count": 1,
   "id": "e56abb36-1a14-45f4-a131-e4b9d8f1b105",
   "metadata": {},
   "outputs": [],
   "source": [
    "import pandas as pd\n",
    "import numpy as np\n",
    "import matplotlib.pyplot as plt"
   ]
  },
  {
   "cell_type": "code",
   "execution_count": 2,
   "id": "28c1fae8-2f86-4109-950f-2223c60ce110",
   "metadata": {},
   "outputs": [
    {
     "data": {
      "text/html": [
       "<div>\n",
       "<style scoped>\n",
       "    .dataframe tbody tr th:only-of-type {\n",
       "        vertical-align: middle;\n",
       "    }\n",
       "\n",
       "    .dataframe tbody tr th {\n",
       "        vertical-align: top;\n",
       "    }\n",
       "\n",
       "    .dataframe thead th {\n",
       "        text-align: right;\n",
       "    }\n",
       "</style>\n",
       "<table border=\"1\" class=\"dataframe\">\n",
       "  <thead>\n",
       "    <tr style=\"text-align: right;\">\n",
       "      <th></th>\n",
       "      <th>x1</th>\n",
       "      <th>x2</th>\n",
       "      <th>t</th>\n",
       "    </tr>\n",
       "  </thead>\n",
       "  <tbody>\n",
       "    <tr>\n",
       "      <th>0</th>\n",
       "      <td>0</td>\n",
       "      <td>0</td>\n",
       "      <td>0</td>\n",
       "    </tr>\n",
       "    <tr>\n",
       "      <th>1</th>\n",
       "      <td>1</td>\n",
       "      <td>0</td>\n",
       "      <td>1</td>\n",
       "    </tr>\n",
       "    <tr>\n",
       "      <th>2</th>\n",
       "      <td>0</td>\n",
       "      <td>1</td>\n",
       "      <td>1</td>\n",
       "    </tr>\n",
       "    <tr>\n",
       "      <th>3</th>\n",
       "      <td>1</td>\n",
       "      <td>1</td>\n",
       "      <td>1</td>\n",
       "    </tr>\n",
       "  </tbody>\n",
       "</table>\n",
       "</div>"
      ],
      "text/plain": [
       "   x1  x2  t\n",
       "0   0   0  0\n",
       "1   1   0  1\n",
       "2   0   1  1\n",
       "3   1   1  1"
      ]
     },
     "execution_count": 2,
     "metadata": {},
     "output_type": "execute_result"
    }
   ],
   "source": [
    "# OR Gate\n",
    "OR = pd.DataFrame(data={'x1': [0,1,0,1], 'x2': [0,0,1,1], 't': [0,1,1,1]})\n",
    "OR"
   ]
  },
  {
   "cell_type": "code",
   "execution_count": 3,
   "id": "48c24d82-4bad-49f8-9b8d-f3f6924e46d5",
   "metadata": {},
   "outputs": [
    {
     "data": {
      "text/html": [
       "<div>\n",
       "<style scoped>\n",
       "    .dataframe tbody tr th:only-of-type {\n",
       "        vertical-align: middle;\n",
       "    }\n",
       "\n",
       "    .dataframe tbody tr th {\n",
       "        vertical-align: top;\n",
       "    }\n",
       "\n",
       "    .dataframe thead th {\n",
       "        text-align: right;\n",
       "    }\n",
       "</style>\n",
       "<table border=\"1\" class=\"dataframe\">\n",
       "  <thead>\n",
       "    <tr style=\"text-align: right;\">\n",
       "      <th></th>\n",
       "      <th>x1</th>\n",
       "      <th>x2</th>\n",
       "      <th>t</th>\n",
       "    </tr>\n",
       "  </thead>\n",
       "  <tbody>\n",
       "    <tr>\n",
       "      <th>0</th>\n",
       "      <td>0</td>\n",
       "      <td>0</td>\n",
       "      <td>0</td>\n",
       "    </tr>\n",
       "    <tr>\n",
       "      <th>1</th>\n",
       "      <td>1</td>\n",
       "      <td>0</td>\n",
       "      <td>0</td>\n",
       "    </tr>\n",
       "    <tr>\n",
       "      <th>2</th>\n",
       "      <td>0</td>\n",
       "      <td>1</td>\n",
       "      <td>0</td>\n",
       "    </tr>\n",
       "    <tr>\n",
       "      <th>3</th>\n",
       "      <td>1</td>\n",
       "      <td>1</td>\n",
       "      <td>1</td>\n",
       "    </tr>\n",
       "  </tbody>\n",
       "</table>\n",
       "</div>"
      ],
      "text/plain": [
       "   x1  x2  t\n",
       "0   0   0  0\n",
       "1   1   0  0\n",
       "2   0   1  0\n",
       "3   1   1  1"
      ]
     },
     "execution_count": 3,
     "metadata": {},
     "output_type": "execute_result"
    }
   ],
   "source": [
    "# AND Gate\n",
    "AND = pd.DataFrame(data={'x1': [0,1,0,1], 'x2': [0,0,1,1], 't': [0,0,0,1]})\n",
    "AND"
   ]
  },
  {
   "cell_type": "code",
   "execution_count": 4,
   "id": "5346adf5-298c-4a2a-95c1-0ce9d4d051c5",
   "metadata": {},
   "outputs": [
    {
     "data": {
      "text/html": [
       "<div>\n",
       "<style scoped>\n",
       "    .dataframe tbody tr th:only-of-type {\n",
       "        vertical-align: middle;\n",
       "    }\n",
       "\n",
       "    .dataframe tbody tr th {\n",
       "        vertical-align: top;\n",
       "    }\n",
       "\n",
       "    .dataframe thead th {\n",
       "        text-align: right;\n",
       "    }\n",
       "</style>\n",
       "<table border=\"1\" class=\"dataframe\">\n",
       "  <thead>\n",
       "    <tr style=\"text-align: right;\">\n",
       "      <th></th>\n",
       "      <th>x1</th>\n",
       "      <th>x2</th>\n",
       "      <th>t</th>\n",
       "    </tr>\n",
       "  </thead>\n",
       "  <tbody>\n",
       "    <tr>\n",
       "      <th>0</th>\n",
       "      <td>0</td>\n",
       "      <td>0</td>\n",
       "      <td>0</td>\n",
       "    </tr>\n",
       "    <tr>\n",
       "      <th>1</th>\n",
       "      <td>1</td>\n",
       "      <td>0</td>\n",
       "      <td>1</td>\n",
       "    </tr>\n",
       "    <tr>\n",
       "      <th>2</th>\n",
       "      <td>0</td>\n",
       "      <td>1</td>\n",
       "      <td>1</td>\n",
       "    </tr>\n",
       "    <tr>\n",
       "      <th>3</th>\n",
       "      <td>1</td>\n",
       "      <td>1</td>\n",
       "      <td>0</td>\n",
       "    </tr>\n",
       "  </tbody>\n",
       "</table>\n",
       "</div>"
      ],
      "text/plain": [
       "   x1  x2  t\n",
       "0   0   0  0\n",
       "1   1   0  1\n",
       "2   0   1  1\n",
       "3   1   1  0"
      ]
     },
     "execution_count": 4,
     "metadata": {},
     "output_type": "execute_result"
    }
   ],
   "source": [
    "# XOR Gate\n",
    "OR = pd.DataFrame(data={'x1': [0,1,0,1], 'x2': [0,0,1,1], 't': [0,1,1,0]})\n",
    "OR"
   ]
  },
  {
   "cell_type": "markdown",
   "id": "c0bc4f5b-79ce-4382-81eb-fc38ed5f6eba",
   "metadata": {},
   "source": [
    "### Defining perceptron function"
   ]
  },
  {
   "cell_type": "code",
   "execution_count": 5,
   "id": "207aa711-4f6e-44b5-9f7d-7188bfc74263",
   "metadata": {},
   "outputs": [],
   "source": [
    "def perceptron(inputs, weights, bias):\n",
    "    pred = []\n",
    "    for x in inputs:\n",
    "        net = np.dot(weights, x) + bias\n",
    "        if net >= 0:\n",
    "            y = +1\n",
    "        else:\n",
    "            y = 0\n",
    "        pred.append(y)\n",
    "    return pred"
   ]
  },
  {
   "cell_type": "markdown",
   "id": "d77621b3-3d83-4cbe-92de-32b14cfb68f6",
   "metadata": {},
   "source": [
    "### AND"
   ]
  },
  {
   "cell_type": "code",
   "execution_count": 11,
   "id": "eb7820a9-8b6b-49a2-9373-f2ac2577bab1",
   "metadata": {},
   "outputs": [],
   "source": [
    "w = np.array([1, 1])\n",
    "b = -3/2"
   ]
  },
  {
   "cell_type": "code",
   "execution_count": 12,
   "id": "f71e0bbb-715d-498d-af02-0e0e51d5e2c5",
   "metadata": {},
   "outputs": [],
   "source": [
    "x = np.array([[0,0],[0,1],[1,0],[1,1]])"
   ]
  },
  {
   "cell_type": "code",
   "execution_count": 13,
   "id": "7dcabccc-6be8-4ca6-b4dc-f8a5abdb217b",
   "metadata": {},
   "outputs": [],
   "source": [
    "t = np.array([0,0,0,1])"
   ]
  },
  {
   "cell_type": "code",
   "execution_count": 14,
   "id": "1914000d-a89a-4df6-a50f-0807d001b8f1",
   "metadata": {},
   "outputs": [],
   "source": [
    "x1 = np.linspace(-0.1,1.5,100)\n",
    "x2 = -w[0]/w[1] * x1 - b/w[1]"
   ]
  },
  {
   "cell_type": "code",
   "execution_count": 15,
   "id": "11403b57-203e-4ef8-b944-424d06908ede",
   "metadata": {},
   "outputs": [
    {
     "data": {
      "image/png": "[encoded data removed]",
      "text/plain": [
       "<Figure size 640x480 with 1 Axes>"
      ]
     },
     "metadata": {},
     "output_type": "display_data"
    }
   ],
   "source": [
    "plt.scatter(x[:,0], x[:,1], c=t, marker=\"s\", s=100)\n",
    "plt.plot(x1, x2)\n",
    "plt.grid()\n",
    "plt.show()"
   ]
  },
  {
   "cell_type": "code",
   "execution_count": 16,
   "id": "47111c09-a83e-4e3a-bb12-44ffc30ddce1",
   "metadata": {},
   "outputs": [],
   "source": [
    "x1 = np.linspace(-0.1, 1.1, 25 )\n",
    "x2 = np.linspace(-0.1, 1.1, 25 )\n",
    "xg, yg = np.meshgrid(x1, x2)"
   ]
  },
  {
   "cell_type": "code",
   "execution_count": 17,
   "id": "b88a6743-b303-410d-a14f-b1eb4ec5cdec",
   "metadata": {},
   "outputs": [],
   "source": [
    "zg = perceptron(np.hstack((xg.reshape(-1,1), yg.reshape(-1,1))), w, b)"
   ]
  },
  {
   "cell_type": "code",
   "execution_count": 19,
   "id": "c05e35b9-254f-40f0-888b-2679af2afca3",
   "metadata": {},
   "outputs": [
    {
     "data": {
      "text/plain": [
       "<matplotlib.collections.PathCollection at 0x15e7ab850>"
      ]
     },
     "execution_count": 19,
     "metadata": {},
     "output_type": "execute_result"
    },
    {
     "data": {
      "image/png": "[encoded data removed]",
      "text/plain": [
       "<Figure size 640x480 with 1 Axes>"
      ]
     },
     "metadata": {},
     "output_type": "display_data"
    }
   ],
   "source": [
    "plt.scatter(xg, yg, c=zg)\n",
    "colors = np.array(['red','red','red','black'])\n",
    "plt.scatter(x[:,0], x[:,1], c=colors, marker=\"s\", s=100)"
   ]
  },
  {
   "cell_type": "code",
   "execution_count": 20,
   "id": "973c2adc-5fbd-4f18-b034-bc995b31d4d9",
   "metadata": {},
   "outputs": [],
   "source": [
    "class Perceptron:\n",
    "    def __init__(self, dofs, epochs, alpha = 0.01):\n",
    "        self.epochs = epochs\n",
    "        self.alpha = alpha\n",
    "        self.weights = np.zeros(dofs + 1)\n",
    "        self.error = np.array([])\n",
    "    \n",
    "    def predict(self, inputs):\n",
    "        net = np.dot(inputs, self.weights[1:]) + self.weights[0]\n",
    "        if net > 0:\n",
    "            activation = 1\n",
    "        else:\n",
    "            activation = -1\n",
    "        return activation\n",
    "    \n",
    "    def train(self, train_inputs, train_labels):\n",
    "        for _ in range(self.epochs):\n",
    "            error = 0\n",
    "            for inputs, labels in zip(train_inputs, train_labels):\n",
    "                preds = self.predict(inputs)\n",
    "                self.weights[1:] += self.alpha * (labels - preds) * inputs\n",
    "                self.weights[0] += self.alpha * (labels - preds)\n",
    "                error += labels - preds\n",
    "            self.error.append(error.mean())"
   ]
  },
  {
   "cell_type": "code",
   "execution_count": 24,
   "id": "f9534966-7488-4310-b078-7204553fda5c",
   "metadata": {},
   "outputs": [],
   "source": [
    "perceptron = Perceptron(3, 100)"
   ]
  },
  {
   "cell_type": "code",
   "execution_count": null,
   "id": "78bf6edb-02fc-490d-a785-36994aa35f6e",
   "metadata": {},
   "outputs": [],
   "source": [
    "df = pd.read_csv()"
   ]
  }
 ],
 "metadata": {
  "kernelspec": {
   "display_name": "Python 3 (ipykernel)",
   "language": "python",
   "name": "python3"
  },
  "language_info": {
   "codemirror_mode": {
    "name": "ipython",
    "version": 3
   },
   "file_extension": ".py",
   "mimetype": "text/x-python",
   "name": "python",
   "nbconvert_exporter": "python",
   "pygments_lexer": "ipython3",
   "version": "3.11.4"
  }
 },
 "nbformat": 4,
 "nbformat_minor": 5
}
